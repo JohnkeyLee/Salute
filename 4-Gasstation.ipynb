{
 "cells": [
  {
   "cell_type": "code",
   "execution_count": null,
   "metadata": {},
   "outputs": [],
   "source": [
    "from selenium import webdriver\n",
    "from selenium.webdriver.common.by import By\n",
    "import time\n",
    "from tqdm import tqdm_notebook\n",
    "\n",
    "driver = webdriver.Chrome('D:\\\\OneDrive-Jongki\\\\OneDrive - Illinois Institute of Technology\\\\Jongki-study\\\\05_Manual\\\\17_Python\\\\DataScience\\\\driver\\\\chromedriver_win32\\\\chromedriver.exe')\n",
    "driver.get('https://www.opinet.co.kr/')\n",
    "\n",
    "time.sleep(2)"
   ]
  },
  {
   "cell_type": "code",
   "execution_count": null,
   "metadata": {},
   "outputs": [],
   "source": [
    "# This is to find '싼주유소 찾기', and gets into there by clicking the banner\n",
    "driver.find_element(By.XPATH,'//*[@id=\"quick_ul\"]/li[2]/a').click()\n",
    "\n",
    "time.sleep(2)"
   ]
  },
  {
   "cell_type": "code",
   "execution_count": null,
   "metadata": {},
   "outputs": [],
   "source": [
    "# This is to go to the dropdown option for '구' and find what tagged as 'option' are\n",
    "gu_list_raw = driver.find_element(By.XPATH,'//*[@id=\"SIGUNGU_NM0\"]')\n",
    "# '.find_elements' returns 'list'\n",
    "gu_list = gu_list_raw.find_elements(By.TAG_NAME, 'option')\n",
    "\n",
    "time.sleep(2)"
   ]
  },
  {
   "cell_type": "code",
   "execution_count": null,
   "metadata": {},
   "outputs": [],
   "source": [
    "# This is to return the values in the attribute 'value' and remove '' data\n",
    "gu_names = [option.get_attribute('value') for option in gu_list]\n",
    "gu_names.remove('')\n",
    "print(gu_names)\n",
    "\n",
    "time.sleep(2)"
   ]
  },
  {
   "cell_type": "code",
   "execution_count": null,
   "metadata": {},
   "outputs": [],
   "source": [
    "# This is to go to the dropdown and pick (type in) the first one\n",
    "element = driver.find_element(By.ID, 'SIGUNGU_NM0')\n",
    "element.send_keys(gu_names[0])\n",
    "\n",
    "time.sleep(2)"
   ]
  },
  {
   "cell_type": "code",
   "execution_count": null,
   "metadata": {},
   "outputs": [],
   "source": [
    "# This is to make it 'click' '조회' which is submit or enter\n",
    "element_sel_gu = driver.find_element(By.XPATH,'//*[@id=\"searRgSelect\"]').click() \n",
    "\n",
    "time.sleep(2)"
   ]
  },
  {
   "cell_type": "code",
   "execution_count": null,
   "metadata": {},
   "outputs": [],
   "source": [
    "# This is to download the excel file in the location you are seeing\n",
    "# element_get_excel = driver.find_element(By.XPATH, '//*[@id=\"glopopd_excel\"]').click()\n",
    "\n",
    "# time.sleep(5)"
   ]
  },
  {
   "cell_type": "code",
   "execution_count": null,
   "metadata": {},
   "outputs": [],
   "source": [
    "# This is to download the data from each district by repeating works\n",
    "for gu in tqdm_notebook(gu_names):\n",
    "    element = driver.find_element(By.ID, 'SIGUNGU_NM0')\n",
    "    element.send_keys(gu)\n",
    "\n",
    "    time.sleep(5)\n",
    "    element_sel_gu = driver.find_element(By.XPATH,'//*[@id=\"searRgSelect\"]').click()\n",
    "\n",
    "    time.sleep(5)\n",
    "\n",
    "    element_get_excel = driver.find_element(By.XPATH, '//*[@id=\"glopopd_excel\"]').click()\n",
    "\n",
    "    time.sleep(5)"
   ]
  },
  {
   "cell_type": "code",
   "execution_count": null,
   "metadata": {},
   "outputs": [],
   "source": [
    "driver.close()"
   ]
  }
 ],
 "metadata": {
  "kernelspec": {
   "display_name": "Python 3",
   "language": "python",
   "name": "python3"
  },
  "language_info": {
   "codemirror_mode": {
    "name": "ipython",
    "version": 3
   },
   "file_extension": ".py",
   "mimetype": "text/x-python",
   "name": "python",
   "nbconvert_exporter": "python",
   "pygments_lexer": "ipython3",
   "version": "3.9.5"
  },
  "orig_nbformat": 4
 },
 "nbformat": 4,
 "nbformat_minor": 2
}
