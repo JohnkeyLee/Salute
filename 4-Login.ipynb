{
 "cells": [
  {
   "cell_type": "code",
   "execution_count": null,
   "metadata": {},
   "outputs": [],
   "source": [
    "from selenium import webdriver\n",
    "from selenium.webdriver.common.by import By\n",
    "# The reason why we use 'selenium', not 'Beautifulsoup' is 'Beautifulsoup' has the limited function of web scaping\n",
    "# 'Beautifulsoup' only works in each environment has each address, but 'selenium' can work in the same address even if the contents would be changed\n",
    "# To use 'selenium', we need to download 'ChromeDriver' : https://chromedriver.chromium.org/downloads\n",
    "#  chromedriver_win32.zip\n",
    "\n",
    "# This is to call 'chromedriver' to get into the address we designated and pull up the chrome window\n",
    "driver = webdriver.Chrome('D:\\\\OneDrive-Jongki\\\\OneDrive - Illinois Institute of Technology\\\\Jongki-study\\\\05_Manual\\\\17_Python\\\\DataScience\\\\driver\\\\chromedriver_win32\\\\chromedriver.exe')\n",
    "# You can see the window and then it shows you that \"Chrome is being controlled by automated test software\"\n",
    "# Don't recommend you to work on the browser by yourself\n",
    "\n",
    "# I block it for the next step\n",
    "# driver.get('http://naver.com') \n"
   ]
  },
  {
   "cell_type": "code",
   "execution_count": null,
   "metadata": {},
   "outputs": [],
   "source": [
    "# So, this is to save a screenshot for you to work\n",
    "# The folder, 'images', should be made before you work on this\n",
    "# 001 is random, you can name it\n",
    "\n",
    "# I block it for the next step\n",
    "# driver.save_screenshot('D:\\\\OneDrive-Jongki\\\\OneDrive - Illinois Institute of Technology\\\\Jongki-study\\\\05_Manual\\\\17_Python\\\\DataScience\\\\images\\\\001.png')"
   ]
  },
  {
   "cell_type": "code",
   "execution_count": null,
   "metadata": {},
   "outputs": [],
   "source": [
    "# This is to call the login page and log in with the below information\n",
    "# Using the developer tool in Chrome, you need to use console to find what information you need\n",
    "driver.get(\"https://nid.naver.com/nidlogin.login?mode=form&amp;url=https%3A%2F%2Fwww.naver.com\")\n",
    "# 'find_elelement_by_id' is to find ID \n",
    "elem_login = driver.find_element(By.ID, \"id\")\n",
    "# '.clear' is to clear the space\n",
    "elem_login.clear()\n",
    "# This is to type in the element\n",
    "elem_login.send_keys('ID') # This is your log in ID\n",
    "\n",
    "elem_login = driver.find_element(By.ID, \"pw\")\n",
    "elem_login.clear()\n",
    "elem_login.send_keys('Password') # This is your password"
   ]
  },
  {
   "cell_type": "code",
   "execution_count": null,
   "metadata": {},
   "outputs": [],
   "source": [
    "# This is to click the login box\n",
    "# xpath = '//*[@id=\"log.login\"]'\n",
    "driver.find_element(By.XPATH,'//*[@id=\"log.login\"]').click()\n",
    "\n",
    "# Might you have a problem in the double sign-in issue, then just do manually log in the page"
   ]
  },
  {
   "cell_type": "code",
   "execution_count": null,
   "metadata": {},
   "outputs": [],
   "source": [
    "# Let's go to the e-mail storage\n",
    "driver.get('https://mail.naver.com/v2/folders/0/all')"
   ]
  },
  {
   "cell_type": "code",
   "execution_count": null,
   "metadata": {},
   "outputs": [],
   "source": [
    "from bs4 import BeautifulSoup\n",
    "\n",
    "html = driver.page_source\n",
    "soup = BeautifulSoup(html, 'html.parser')"
   ]
  },
  {
   "cell_type": "code",
   "execution_count": null,
   "metadata": {},
   "outputs": [],
   "source": [
    "raw_list = soup.find_all('div','blind')\n",
    "raw_list\n",
    "send_list = [raw_list[n].find('title').get_text() for n in range(0, len(raw_list))]\n",
    "send_list"
   ]
  }
 ],
 "metadata": {
  "kernelspec": {
   "display_name": "Python 3",
   "language": "python",
   "name": "python3"
  },
  "language_info": {
   "codemirror_mode": {
    "name": "ipython",
    "version": 3
   },
   "file_extension": ".py",
   "mimetype": "text/x-python",
   "name": "python",
   "nbconvert_exporter": "python",
   "pygments_lexer": "ipython3",
   "version": "3.9.5"
  },
  "orig_nbformat": 4
 },
 "nbformat": 4,
 "nbformat_minor": 2
}
